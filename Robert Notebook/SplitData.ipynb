{
 "metadata": {
  "language_info": {
   "codemirror_mode": {
    "name": "ipython",
    "version": 3
   },
   "file_extension": ".py",
   "mimetype": "text/x-python",
   "name": "python",
   "nbconvert_exporter": "python",
   "pygments_lexer": "ipython3",
   "version": "3.8.5-final"
  },
  "orig_nbformat": 2,
  "kernelspec": {
   "name": "python3",
   "display_name": "Python 3"
  }
 },
 "nbformat": 4,
 "nbformat_minor": 2,
 "cells": [
  {
   "source": [
    "## Split Data to create hidden test set"
   ],
   "cell_type": "markdown",
   "metadata": {}
  },
  {
   "cell_type": "code",
   "execution_count": 16,
   "metadata": {},
   "outputs": [],
   "source": [
    "import pandas\n",
    "\n",
    "#File Paths\n",
    "data = r'..\\train.csv'\n",
    "hidden_data = r'..\\hidden_test.csv'\n",
    "train_data = r'..\\train_without_hidden.csv'\n",
    "\n",
    "#How many lines to be split and \"hidden\", only in steps a 30\n",
    "hidden_data_lines = 90\n"
   ]
  },
  {
   "cell_type": "code",
   "execution_count": 17,
   "metadata": {},
   "outputs": [],
   "source": [
    "data_csv = pandas.read_csv(data)\n",
    "\n",
    "#Pass last x columns to new data frame \n",
    "hidden_file = df.tail(hidden_data_lines)\n",
    "#Create new file with last x columns\n",
    "hidden_file.to_csv(hidden_data, index = False, header=None)\n",
    "#Pass first length - x columns to new data frame\n",
    "train_without_hidden = data_csv.head(len(data_csv) - hidden_data_lines)\n",
    "#Create new file with first length - x columns\n",
    "train_without_hidden.to_csv(train_data, index = False, header = None)\n",
    "#Data created without Row names, okay that way?\n",
    "#Header nicht ganz durchschaut, also ignorieren wir den"
   ]
  },
  {
   "cell_type": "code",
   "execution_count": null,
   "metadata": {},
   "outputs": [],
   "source": []
  }
 ]
}